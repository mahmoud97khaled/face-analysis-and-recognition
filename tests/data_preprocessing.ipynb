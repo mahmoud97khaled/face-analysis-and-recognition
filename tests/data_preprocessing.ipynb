{
 "cells": [
  {
   "cell_type": "code",
   "execution_count": null,
   "id": "10ead17e-559a-4cac-8aa3-d786838aa19c",
   "metadata": {},
   "outputs": [],
   "source": [
    "from torchvision.transforms import v2\n",
    "# Define data transformations\n",
    "transform_train = v2.Compose([\n",
    "    v2.Grayscale(num_output_channels=3),  # Convert grayscale images to 3-channel images\n",
    "    v2.Resize((224, 224)),\n",
    "    v2.RandomHorizontalFlip(p=0.5),\n",
    "    v2.RandomRotation(degrees=(0,180)),\n",
    "    v2.ToTensor(),\n",
    "    v2.Normalize([0.485, 0.456, 0.406], [0.229, 0.224, 0.225])\n",
    "])\n",
    "\n",
    "transform_test = v2.Compose([\n",
    "    v2.Grayscale(num_output_channels=3),  # Convert grayscale images to 3-channel images\n",
    "    v2.Resize((224, 224)),\n",
    "    v2.ToTensor(),\n",
    "    v2.Normalize([0.485, 0.456, 0.406], [0.229, 0.224, 0.225])\n",
    "])\n",
    "\n",
    "# Load the dataset\n",
    "data_path = ''  # Replace with the actual path\n",
    "train_dataset = datasets.ImageFolder(os.path.join(data_path, 'train'), transform=transform_train)\n",
    "test_dataset = datasets.ImageFolder(os.path.join(data_path, 'test'), transform=transform_test)\n",
    "\n",
    "\n",
    "# Create data loaders\n",
    "batch_size = 64\n",
    "train_loader = DataLoader(train_dataset, batch_size=batch_size, shuffle=True)\n",
    "test_loader = DataLoader(test_dataset, batch_size=batch_size, shuffle=False)\n",
    "\n",
    "print(f'Training samples: {len(train_loader.dataset)}')\n",
    "print(f'Test samples: {len(test_loader.dataset)}')\n"
   ]
  }
 ],
 "metadata": {
  "kernelspec": {
   "display_name": "Python 3 (ipykernel)",
   "language": "python",
   "name": "python3"
  },
  "language_info": {
   "codemirror_mode": {
    "name": "ipython",
    "version": 3
   },
   "file_extension": ".py",
   "mimetype": "text/x-python",
   "name": "python",
   "nbconvert_exporter": "python",
   "pygments_lexer": "ipython3",
   "version": "3.11.7"
  }
 },
 "nbformat": 4,
 "nbformat_minor": 5
}
