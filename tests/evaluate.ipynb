{
 "cells": [
  {
   "cell_type": "code",
   "execution_count": null,
   "id": "c77c9ec7-ccc8-4376-ac35-89329d26a62e",
   "metadata": {},
   "outputs": [],
   "source": [
    "from PIL import Image\n",
    "import torch\n",
    "from torchvision import transforms\n",
    "\n",
    "# Function to load and preprocess the image\n",
    "def load_image(image_path):\n",
    "    transform = transforms.Compose([\n",
    "        transforms.Grayscale(num_output_channels=3),  # Convert grayscale images to 3-channel images\n",
    "        transforms.Resize((224, 224)),\n",
    "        transforms.ToTensor(),\n",
    "        transforms.Normalize([0.485, 0.456, 0.406], [0.229, 0.224, 0.225])\n",
    "    ])\n",
    "    \n",
    "    image = Image.open(image_path).convert('RGB')\n",
    "    image = transform(image)\n",
    "    image = image.unsqueeze(0)  # Add a batch dimension\n",
    "    return image.to(device)\n",
    "\n",
    "# Function to predict the emotion from an image\n",
    "def predict_emotion(image_path, model_f, class_names):\n",
    "    # Load and preprocess the image\n",
    "    image = load_image(image_path)\n",
    "    \n",
    "    # Set the model to evaluation mode\n",
    "    model_f.eval()\n",
    "    \n",
    "    with torch.no_grad():\n",
    "        # Make predictions\n",
    "        outputs = model_f(image)\n",
    "        _, predicted = torch.max(outputs, 1)\n",
    "    \n",
    "    # Get the predicted class name\n",
    "    predicted_class = class_names[predicted.item()]\n",
    "    return predicted_class\n",
    "\n",
    "model_f.load_state_dict(torch.load('res34_res34.pth')) \n",
    "class_names = train_loader.dataset.classes\n",
    "\n",
    "image_path = ''  \n",
    "\n",
    "predicted_emotion = predict_emotion(image_path, model_f, class_names)\n",
    "print(f'The predicted emotion is: {predicted_emotion}')\n"
   ]
  }
 ],
 "metadata": {
  "kernelspec": {
   "display_name": "Python 3 (ipykernel)",
   "language": "python",
   "name": "python3"
  },
  "language_info": {
   "codemirror_mode": {
    "name": "ipython",
    "version": 3
   },
   "file_extension": ".py",
   "mimetype": "text/x-python",
   "name": "python",
   "nbconvert_exporter": "python",
   "pygments_lexer": "ipython3",
   "version": "3.11.7"
  }
 },
 "nbformat": 4,
 "nbformat_minor": 5
}
