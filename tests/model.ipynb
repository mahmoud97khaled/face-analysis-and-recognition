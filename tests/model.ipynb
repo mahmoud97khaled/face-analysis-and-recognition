{
 "cells": [
  {
   "cell_type": "code",
   "execution_count": null,
   "id": "9e14b55a-810f-4f5d-941d-ca1eb5491c53",
   "metadata": {},
   "outputs": [],
   "source": [
    "model_f= models.resnet34(weights=True)\n",
    "num_ftrs = model_f.fc.in_features\n",
    "model_f.fc = nn.Sequential(\n",
    "    nn.Dropout(0.5),\n",
    "    nn.Linear(num_ftrs,512),\n",
    "    nn.ReLU(),\n",
    "    nn.Linear(512,256),\n",
    "    nn.ReLU(),\n",
    "    nn.Linear(256,128),\n",
    "    nn.ReLU(),\n",
    "    nn.Linear(128,7)\n",
    "    )\n",
    "\n",
    "model_f = model_f.to(device)"
   ]
  }
 ],
 "metadata": {
  "kernelspec": {
   "display_name": "Python 3 (ipykernel)",
   "language": "python",
   "name": "python3"
  },
  "language_info": {
   "codemirror_mode": {
    "name": "ipython",
    "version": 3
   },
   "file_extension": ".py",
   "mimetype": "text/x-python",
   "name": "python",
   "nbconvert_exporter": "python",
   "pygments_lexer": "ipython3",
   "version": "3.11.7"
  }
 },
 "nbformat": 4,
 "nbformat_minor": 5
}
